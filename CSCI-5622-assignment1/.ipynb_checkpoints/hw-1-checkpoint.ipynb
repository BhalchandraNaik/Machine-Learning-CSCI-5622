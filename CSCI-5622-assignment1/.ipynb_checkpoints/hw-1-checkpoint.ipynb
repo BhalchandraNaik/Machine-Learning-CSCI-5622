{
 "cells": [
  {
   "cell_type": "markdown",
   "metadata": {},
   "source": [
    "# K-Nearest Neighbors\n",
    "***\n",
    "**Name**: Bhalchandra Naik<br>\n",
    "**Discussions with:** Dhanendra Soni, Posts on Piazza. \n",
    "***\n",
    "\n",
    "This assignment is due on Canvas by **5pm on Wednesday September 19th**. Submit only this Jupyter notebook to Canvas.  Do not compress it using tar, rar, zip, etc. Your solutions to analysis questions should be done in Markdown directly below the associated question.  Remember that you are encouraged to discuss the problems with your classmates and instructors, but **you must write all code and solutions on your own**, and list any people or sources consulted.\n"
   ]
  },
  {
   "cell_type": "markdown",
   "metadata": {},
   "source": [
    "## Overview \n",
    "***\n",
    "\n",
    "\n",
    "In this homework you'll implement prototype based k-nn and perceptron (with offset = 0) training algorithms using convergence method covered in the class.\n",
    "\n",
    "Most of this assignment will be done by calling libraries that are already implemented for you. You can use python loops to accomplish most of the implementation, but we would strongly encourage you to use vectorized operations using `numpy` package.\n",
    "\n",
    "Here are the rules: \n",
    "\n",
    "- Do **NOT** load or use any Python packages that are not available in Anaconda 3.6. \n",
    "- Some problems with code may be autograded.  If we provide a function or class API **do not** change it.\n",
    "- Do not change the location of the data or data directory.  Use only relative paths to access the data. "
   ]
  },
  {
   "cell_type": "markdown",
   "metadata": {},
   "source": [
    "### Linear Algebra - 10 points\n",
    "***\n",
    "Given matrix:\n",
    "\n",
    "$$\n",
    "\\begin{equation*}\n",
    "\\mathbf{A} = \\begin{bmatrix}2 & -1 & 0\\\\-1 & 2 & -1\\\\ 0 & -1 & 2\\end{bmatrix}\n",
    "\\end{equation*}\n",
    "$$\n",
    "\n",
    "Answer the following questions:\n",
    "\n",
    "**1.** Are the vectors $\\begin{equation*} \\mathbf{x} = \\begin{bmatrix}2\\\\-1\\\\0\\end{bmatrix}, \\mathbf{y} = \\begin{bmatrix}-1 \\\\ 2 \\\\ -1\\end{bmatrix}, \\mathbf{z} = \\begin{bmatrix}0 \\\\ -1 \\\\2\\end{bmatrix} \\end{equation*}$ linearly independent? Justify your answer\n",
    "\n",
    "__Solution :__\n",
    "> A set of $n$ vectors $v_1, v_2, v_3 \\cdots v_n$ are said to be linearly independent when there exist $n$ factors $c_1, c_2, c_3 \\cdots c_n$ such that $c_1=c_2=\\cdots c_n=0$ is the only solution for the relation:\n",
    "$$\\sum_{i=1}^{n}c_iv_i = c_1v_1+c_2v_2+c_3v_3....c_nv_n = 0$$\n",
    ">For the given vectors the relation becomes:\n",
    "$$\\begin{equation*} c_1\\begin{bmatrix}2\\\\-1\\\\0\\end{bmatrix} + c_2\\begin{bmatrix}-1 \\\\ 2 \\\\ -1\\end{bmatrix} + c_3\\begin{bmatrix}0 \\\\ -1 \\\\2\\end{bmatrix} \\end{equation*} = \\begin{bmatrix}0\\\\0\\\\0\\end{bmatrix}$$\n",
    "> Lets solve this relation for to find the factors $c_1, c_2 \\text{ and } c_3$\n",
    "$$\\begin{equation*} \\begin{bmatrix}2c_1-c_2\\\\-c_1+2c_2-c_3\\\\-c_2+2c_3\\end{bmatrix} \\end{equation*} = \\begin{bmatrix}0\\\\0\\\\0\\end{bmatrix}$$\n",
    "> We have 3 equations : \n",
    "$$2c_1-c_2 = 0 \\cdots (1)$$\n",
    "$$-c_1+2c_2-c_3 = 0 \\cdots (2)$$\n",
    "$$-c_2+2c_3 = 0 \\cdots (3)$$\n",
    "> From equation $(1)$ we know $c_1 = \\frac{1}{2}c_2 \\cdots (4)$ and from equation $(2)$ that $c_3 = \\frac{1}{2}c_2 \\cdots (5)$ on rearrangement. On substituting these values in equation $(2)$ we get:\n",
    "$$ -\\frac{c_2}{2}+2c_2-\\frac{c_2}{2} = 0 $$\n",
    "$$ \\therefore c_2 = 0 $$\n",
    "> And from $\\text{(4) and (5)}$ we get $\\text{c_1 = 0 and c_3=0}$, thus:\n",
    "$$c_1 = c_2 = c_3 = 0$$\n",
    "> Hence the three vectors are linearly seperable.\n",
    "\n",
    "\n",
    "> Let us first express the quantity $Z_{t+1}$ in terms of $\\alpha_t$. We know that:\n",
    "$$Z^{t+1} = \\sum_{i=1}^{n}w_i^{(t+1)}$$\n",
    "> Now we know that $w_i^{t+1} = w_i^{(t)}e^{-y_ih_t(x_i)\\alpha_t}$. On substituting this value in the above equation we get:\n",
    "$$Z^{t+1} = \\sum_{i=1}^{n}w_i^{(t)}e^{-y_ih_t(x_i)\\alpha_t}$$\n",
    "> Now we need to split this summation in terms of $\\delta(y_i, h_t(x_i))$ for classified points and $(1-\\delta(y_i, h_t(x_i)))$\n",
    "for misclassified points. Therefore we get : \n",
    "$$Z^{t+1} = \\sum_{i=1}^{n}w_i^{(t)}e^{-y_ih_t(x_i)\\alpha_t}(1-\\delta(y_i, h_t(x_i))) + \\sum_{i=1}^{n}w_i^{(t)}e^{-y_ih_t(x_i)\\alpha_t}\\delta(y_i, h_t(x_i))$$\n",
    "> Now for misclassified points the $y_ih_t(x_i) = -1$ and for correctly classified points it becomes $y_ih_t(x_i) = 1$. Thus substituting these values above we get:\n",
    "$$Z^{t+1} = \\sum_{i=1}^{n}w_i^{(t)}e^{\\alpha_t}(1-\\delta(y_i, h_t(x_i))) + \\sum_{i=1}^{n}w_i^{(t)}e^{-\\alpha_t}\\delta(y_i, h_t(x_i))$$\n",
    "> Now, $\\epsilon_t = \\frac{1}{Z_t}\\sum_{i=1}^{n}w_i^{(t)}(1-\\delta(y_i, h_t(x_i)))$ and $(1-\\epsilon_t) = \\frac{1}{Z_t}\\sum_{i=1}^{n}w_i^{(t)}\\delta(y_i, h_t(x_i))$.  Thus on substituting in the relation above we get:\n",
    "$$Z^{t+1} = e^{\\alpha_t}\\epsilon_tZ_t + e^{-\\alpha_t}(1-\\epsilon_t)Z_t$$\n",
    "> Now, \n",
    "\n",
    "\n"
   ]
  },
  {
   "cell_type": "code",
   "execution_count": null,
   "metadata": {},
   "outputs": [],
   "source": []
  },
  {
   "cell_type": "markdown",
   "metadata": {},
   "source": [
    "**2.** Find the eigenvalues and the corresponding eigenvectors of $\\mathbf{A}$\n",
    "> __Solution:__\n",
    "> First let us find the eigen values of the vectors. An eigen value for any matrix satisfies the below relation:\n",
    "$$|A - \\lambda I| = 0$$\n",
    "> Here $I$ is a $3\\times 3 $ matrix. Let us find the values of $A - \\lambda I$ Thus on subtituting the values we get:\n",
    "$$A - \\lambda I = \\begin{equation*} \\begin{bmatrix}2 & -1 & 0\\\\-1 & 2 & -1\\\\ 0 & -1 & 2\\end{bmatrix} - \\begin{bmatrix}\\lambda & 0 & 0\\\\0 & \\lambda & 0\\\\ 0 & 0 & \\lambda \\end{bmatrix} = \\begin{bmatrix}2 - \\lambda & -1 & 0\\\\-1 & 2 - \\lambda & -1\\\\ 0 & -1 & 2 - \\lambda\\end{bmatrix} \\end{equation*}$$\n",
    "> Thus,\n",
    "$$|A-\\lambda I| = (2-\\lambda)((2-\\lambda)^2 - (-1)(-1)) - (-1)(-1 \\times(2-\\lambda) - (-1)\\times 0) + 0(-1 \\times -1 - (2-\\lambda)\\times 0)$$\n",
    "$$|A-\\lambda I| = (2-\\lambda)^3 - (2-\\lambda) + \\lambda-2$$\n",
    "$$ = (2-\\lambda)^3 + \\lambda - 2 + \\lambda-2$$\n",
    "$$ = (2-\\lambda)^3 + 2\\lambda - 4$$\n",
    "$$ = 8 - \\lambda^3 - 12\\lambda + 6\\lambda^2 + 2\\lambda - 4$$\n",
    "$$ = 4 - \\lambda^3 - 10\\lambda + 6\\lambda^2$$\n",
    "> Thus we have, $|A-\\lambda I| = 4 - \\lambda^3 - 10\\lambda + 6\\lambda^2$. Now, $|A - \\lambda I| = 0 $ for eigen values, hence find the roots to the equation:\n",
    "$$4 - \\lambda^3 - 10\\lambda + 6\\lambda^2 = 0$$\n",
    "$$\\therefore \\lambda^3 - 6\\lambda^2 + 10\\lambda - 4 = 0 $$\n",
    "$$\\therefore \\lambda^3 - 2\\lambda^2 - 4\\lambda^2 + 8\\lambda + 2\\lambda - 4 = 0 $$\n",
    "$$\\therefore \\lambda^2(\\lambda - 2) - 4\\lambda(\\lambda - 2) + 2(\\lambda - 2) = 0 $$\n",
    "$$\\therefore (\\lambda-2)(\\lambda^2-4\\lambda+2)=0$$\n",
    "> Roots for the equation $\\lambda^2-4\\lambda+2$ can be found using $\\frac{-b\\pm\\sqrt{b^2-4ac}}{2a}$. Thus, $\\lambda^2-4\\lambda+2 = (\\lambda-(2+\\sqrt{2}))(\\lambda-(2-\\sqrt{2}))$. Thus the equation becomes:\n",
    "$$ (\\lambda-2)(\\lambda-(2+\\sqrt{2}))(\\lambda-(2-\\sqrt{2}))=0$$\n",
    "> Thus the eigen values for the matrix $A$ are $\\lambda = 2,$ $2+\\sqrt{2},$ $2-\\sqrt{2}$\n",
    "> Any eigen vector say $x$ for a particular matrix $A$ satisfies the below condition:\n",
    "$$(A-\\lambda I)x = 0$$\n",
    "> Say the eigen vectors for the given matrix $A$ are the $\\text{x, y and z for }\\lambda = 2, 2+\\sqrt{2}, 2-\\sqrt{2}$ respectively. Lets solve $x$ for $\\lambda =  2$\n",
    "$$\\therefore (A - \\lambda I)x = \\Bigg(\\begin{equation*} \\begin{bmatrix}2 & -1 & 0\\\\-1 & 2 & -1\\\\ 0 & -1 & 2\\end{bmatrix} - \\begin{bmatrix}2 & 0 & 0\\\\0 & 2 & 0\\\\ 0 & 0 & 2 \\end{bmatrix}\\Bigg)\\times \\begin{bmatrix}x_1\\\\x_2\\\\ x_3\\end{bmatrix} = \\begin{bmatrix}0 & -1 & 0\\\\-1 & 0 & -1\\\\ 0 & -1 & 0\\end{bmatrix}\\times\\begin{bmatrix}x_1\\\\x_2\\\\ x_3\\end{bmatrix} = \\begin{bmatrix}-x_2\\\\-x_1 + -x_3\\\\-x_2\\end{bmatrix} = \\begin{bmatrix}0\\\\0\\\\0\\end{bmatrix} \\end{equation*}$$\n",
    "> Thus we get the inequalities $x_2 = 0$ and $x_1 = -x_3$. If we let $x_3 = 1$ then $x_1 = -1$. Thus we have the eigen vector x as : \n",
    "$$ x = \\begin{equation*} \\begin{bmatrix}-1\\\\0\\\\ 1\\end{bmatrix}\\end{equation*}$$\n",
    "> Similarly other eigen vectors $\\text{y and z }$for the $\\lambda = 2+\\sqrt{2}, 2-\\sqrt{2}$ can be calculated, which shall be the as below:\n",
    "$$\\begin{equation*}y = \\begin{bmatrix}1\\\\-\\sqrt{2}\\\\ 1\\end{bmatrix} \\&\\text{ } z = \\begin{bmatrix}1\\\\ \\sqrt{2}\\\\ 1\\end{bmatrix}\\end{equation*}$$\n",
    "> Thus the eigen vectors and eigen values for $A$ are as following:\n",
    "$$\\lambda_x = 2, \\lambda_y = 2+\\sqrt{2}, \\lambda_z = 2-\\sqrt{2},\\text{     } x = \\begin{bmatrix}-1\\\\0\\\\ 1\\end{bmatrix}, y = \\begin{bmatrix}1\\\\-\\sqrt{2}\\\\ 1\\end{bmatrix} \\&\\text{ } z = \\begin{bmatrix}1\\\\ \\sqrt{2}\\\\ 1\\end{bmatrix}$$\n",
    "\n",
    "\n",
    "\n"
   ]
  },
  {
   "cell_type": "code",
   "execution_count": null,
   "metadata": {},
   "outputs": [],
   "source": []
  },
  {
   "cell_type": "markdown",
   "metadata": {},
   "source": [
    "**3.** Let $M$ be any matrix with real entries. $M$ is *positive semidefinite* if, for any vector $x$ with real components, the dot product of $Mx$ and $x$ is nonnegative, $\\langle Mx, x \\rangle \\geq 0$\n",
    "\n",
    "Let $B = \\begin{bmatrix}1 & 2\\\\-2 & 1\\end{bmatrix}$. Show that $B$ is positive semidefinite.(i.e., show that $\\langle Bx, x \\rangle \\geq 0$)\n",
    "\n",
    "__Solution:__\n",
    "> Let the vector $x = \\begin{bmatrix}x_1\\\\x_2\\end{bmatrix}$ thus for the given matrix the quantity $(Mx).x$ shall be:\n",
    "$$\\therefore (Mx).x = \\Bigg(\\begin{bmatrix}1 & 2\\\\-2 & 1\\end{bmatrix} \\begin{bmatrix}x_1\\\\x_2\\end{bmatrix} \\Bigg)\\cdot \\begin{bmatrix}x_1\\\\x_2\\end{bmatrix} = \\begin{bmatrix}x_1 + 2x_2\\\\-2x_1 + x_2\\end{bmatrix}\\cdot \\begin{bmatrix}x_1\\\\x_2\\end{bmatrix} = x_1^2+x_2^2$$\n",
    "> The value of the quantity $x_1^2+x_2^2$ shall always be positive since squares of real numbers are always non-negative and so is their sum. Thus the matrix $M$ is semidefinite"
   ]
  },
  {
   "cell_type": "code",
   "execution_count": null,
   "metadata": {},
   "outputs": [],
   "source": []
  },
  {
   "cell_type": "markdown",
   "metadata": {},
   "source": [
    "**4.** A *symmetric* matrix $H$ is positive semidefinite if and only if the eigenvalues of $H$ are all non-negative. Is matrix $A$ positive semidefinite? Why?\n",
    "\n",
    "__Solution:__\n",
    "> 1. The matrix $A$ is clearly a symmetric matrix as $A = A^T$.\n",
    "> 2. The eigen values of $A$ are also positive, $\\lambda = 2, 2+\\sqrt{2}, 2-\\sqrt{2}$\n",
    "> 3. Given $\\text{(1) and (2)}$ it can be said that the Matrix $A$ is positive semidefinite"
   ]
  },
  {
   "cell_type": "code",
   "execution_count": null,
   "metadata": {},
   "outputs": [],
   "source": []
  },
  {
   "cell_type": "markdown",
   "metadata": {},
   "source": [
    "### Prototype Based K-NN - 10 points\n",
    "***\n",
    "\n",
    "In this problem you'll implement a prototype based K-Nearest Neighbor framework to take an image of a handwritten digit and predict which digit it corresponds to.\n",
    "\n",
    "<br>\n",
    "\n",
    "![Samples of Handwritten Digits](wide_mnist.png \"MNIST Digits\")\n",
    "\n",
    "\n",
    "<br>"
   ]
  },
  {
   "cell_type": "code",
   "execution_count": 1,
   "metadata": {
    "ExecuteTime": {
     "end_time": "2018-08-31T21:21:54.811264Z",
     "start_time": "2018-08-31T21:21:54.431647Z"
    }
   },
   "outputs": [],
   "source": [
    "import numpy as np\n",
    "import matplotlib.pylab as plt\n",
    "import math\n",
    "%matplotlib inline"
   ]
  },
  {
   "cell_type": "markdown",
   "metadata": {},
   "source": [
    "The class below will load and store the MNIST data.  Load the data and then report: \n",
    "- The number of examples in the training set \n",
    "- The number of examples in the test set \n",
    "- The number of pixels in each image. \n",
    "- Plot the number of data points per class\n",
    "   "
   ]
  },
  {
   "cell_type": "code",
   "execution_count": 126,
   "metadata": {
    "ExecuteTime": {
     "end_time": "2018-08-31T22:52:03.734460Z",
     "start_time": "2018-08-31T22:52:03.725537Z"
    }
   },
   "outputs": [],
   "source": [
    "class Numbers:\n",
    "    \"\"\"\n",
    "    Class to store MNIST data\n",
    "    \"\"\"\n",
    "    def __init__(self, location):\n",
    "\n",
    "        import pickle, gzip\n",
    "\n",
    "        # load data from file \n",
    "        f = gzip.open(location, 'rb')\n",
    "        train_set, valid_set, test_set = pickle.load(f)\n",
    "        f.close()\n",
    "\n",
    "        # store for use later  \n",
    "        self.train_x, self.train_y = train_set\n",
    "        self.test_x, self.test_y = valid_set"
   ]
  },
  {
   "cell_type": "code",
   "execution_count": 127,
   "metadata": {
    "ExecuteTime": {
     "end_time": "2018-08-31T22:52:05.787320Z",
     "start_time": "2018-08-31T22:52:05.090173Z"
    }
   },
   "outputs": [
    {
     "name": "stdout",
     "output_type": "stream",
     "text": [
      "-----The number of examples in the training set-----\n",
      "Training examples:  50000\n",
      "-----The number of examples in the test set---------\n",
      "Testing examples :  10000\n",
      "-----The number of pixels in each image-------------\n",
      "Number of pixels:  784\n",
      "-----Plot the number of data points per class-------\n"
     ]
    },
    {
     "data": {
      "image/png": "[encoded data removed]",
      "text/plain": [
       "<Figure size 432x288 with 1 Axes>"
      ]
     },
     "metadata": {},
     "output_type": "display_data"
    }
   ],
   "source": [
    "DATA_PATH = \"data/mnist.pklz\"\n",
    "data = Numbers(DATA_PATH)\n",
    "\n",
    "print('-----The number of examples in the training set-----')\n",
    "print('Training examples: ', len(data.train_y))\n",
    "print('-----The number of examples in the test set---------')\n",
    "print('Testing examples : ', len(data.test_y))\n",
    "print('-----The number of pixels in each image-------------')\n",
    "print('Number of pixels: ', len(data.train_x[0]))\n",
    "print('-----Plot the number of data points per class-------')\n",
    "classes, counts = np.unique(data.train_y, return_counts = True)\n",
    "plt.bar(classes, counts)\n",
    "plt.xlabel('Classes')\n",
    "plt.ylabel('Counts')\n",
    "plt.show()\n"
   ]
  },
  {
   "cell_type": "markdown",
   "metadata": {},
   "source": [
    "The class below will perform K-Nearest Neighbor classification on our handwritten digit data. Your tasks are as follows:\n",
    "\n",
    "1. Modify `select_prototypes` method to select `p` random prototypes from training data which will be used for finding `k` nearest neighbors instead of all the training data points.\n",
    "1. Modify the `label_counts` function to return a dictionary of frequencies corresponding to each label in the training set.\n",
    "1. Modify the `majority` function so that it returns the _label_ that appears most frequently in the $K$-nearest neighbors of the query point.  In the case that the maximum frequency occurs for two or more labels, return the one that appears most frequently in the entire training set. In the case that there is still a tie, break the tie in any way that you choose.\n",
    "1. Modify the `confusion_matrix` function to classify examples and record the results in a confusion matrix. You should construct the confusion matrix on your own. Don't call any additional functions from sklearn to do it for you.\n",
    "1. Modify the `classify` function so that it finds the indices of the $K$ closest training examples to the query point and then calls the `majority` function to return the predicted label. Almost all of the heavy lifting here will be done by the `BallTree` object from sklearn.neighbors, so you'll want to start out by reading the [documentation](http://scikit-learn.org/stable/modules/generated/sklearn.neighbors.BallTree.html#sklearn.neighbors.BallTree.query)\n",
    "\n",
    "The class Knearest also implements an accuracy function which you will use in subsequent problems. You should not have to modify this function."
   ]
  },
  {
   "cell_type": "code",
   "execution_count": 98,
   "metadata": {},
   "outputs": [],
   "source": [
    "class Knearest:\n",
    "    \"\"\"\n",
    "    kNN classifier\n",
    "    \"\"\"\n",
    "\n",
    "    def __init__(self, X, y, k=5, p=10):\n",
    "        \"\"\"\n",
    "        Creates a kNN instance\n",
    "\n",
    "        :param x: Training data input\n",
    "        :param y: Training data output\n",
    "        :param k: The number of nearest points to consider in classification\n",
    "        :param p: The number of prototypes to choose\n",
    "        \"\"\"\n",
    "        \n",
    "        from sklearn.neighbors import BallTree\n",
    "        \n",
    "        self._p = p\n",
    "        self._x, self._y = self.select_prototypes(X, y)\n",
    "        self._k = k\n",
    "        self._counts = self.label_counts(y)\n",
    "        self._kdtree = BallTree(self._x)\n",
    "            \n",
    "    def label_counts(self, y):\n",
    "        \"\"\"\n",
    "        Given the training prototypes, return a dictionary d where d[y] is  \n",
    "        the number of times that label y appears in the training prototypes.\n",
    "        \n",
    "        :param y: Training labels input\n",
    "        \"\"\"   \n",
    "        classes, class_freqs = np.unique(self._y, return_counts = True)\n",
    "        frequencies = dict(zip(classes, class_freqs))\n",
    "        for label in y:\n",
    "            if label not in classes:\n",
    "                frequencies[label] = 0\n",
    "        return frequencies\n",
    "\n",
    "\n",
    "    def majority(self, neighbor_indices):\n",
    "        \"\"\"\n",
    "        Given the indices of training protypes, return the majority label. Break ties \n",
    "        by choosing the tied label that appears most often in the training prototypes. \n",
    "\n",
    "        :param neighbor_indices: The indices of the k nearest neighbors\n",
    "        \"\"\"\n",
    "        assert len(neighbor_indices) == self._k, \"Did not get k neighbor indices\"\n",
    "        classes,  votes = np.unique(self._y[neighbor_indices], return_counts=True)\n",
    "        max_votes = np.amax(votes)\n",
    "        votes_received, recipients = np.unique(votes, return_counts = True)\n",
    "        votes_frequencies = dict(zip(votes_received, recipients))\n",
    "        final_winner = -1\n",
    "        if votes_frequencies[max_votes] == 1:\n",
    "            final_winner = classes[np.argmax(votes)]\n",
    "        else:\n",
    "            winners = list()\n",
    "            for i in range(0,len(votes)):\n",
    "                if votes[i]==max_votes:\n",
    "                    winners.append(classes[i])\n",
    "            prototype_classes, prototype_class_freqs = np.unique(self._y, return_counts = True)\n",
    "            prototype_classes_freq_dict = dict(zip(prototype_classes, prototype_class_freqs))\n",
    "            max_appearance_prototype = -1\n",
    "            for winner in winners:\n",
    "                if max_appearance_prototype < prototype_classes_freq_dict[winner]:\n",
    "                    max_appearance_prototype = prototype_classes_freq_dict[winner]\n",
    "                    final_winner = winner\n",
    "        return final_winner\n",
    "        \n",
    "    \n",
    "    def classify(self, example):\n",
    "        \"\"\"\n",
    "        Given an example, return the predicted label.\n",
    "\n",
    "        :param example: A representation of an example in the same\n",
    "        format as a row of the training data\n",
    "        \"\"\"\n",
    "        nearest_points = list()\n",
    "        for xx, yy, i in zip(self._x, self._y, range(len(self._x))):\n",
    "            distance = np.linalg.norm(xx-example)\n",
    "            if len(nearest_points) < self._k:\n",
    "                if len(nearest_points) == 0:\n",
    "                    nearest_points.append({'distance':distance, 'index':i})\n",
    "                else:\n",
    "                    for j in range(len(nearest_points)):\n",
    "                        if distance < nearest_points[j]['distance']:\n",
    "                            nearest_points.insert(j, {'distance':distance, 'index':i})\n",
    "                            break\n",
    "                        if j == len(nearest_points)-1:\n",
    "                            nearest_points.append({'distance':distance, 'index':i})\n",
    "                            break\n",
    "            else:\n",
    "                for j in range(0, len(nearest_points)):\n",
    "                    if distance < nearest_points[j]['distance']:\n",
    "                        nearest_points.insert(j, {'distance':distance, 'index':i})\n",
    "                        break\n",
    "                if len(nearest_points) > self._k:\n",
    "                    del(nearest_points[-1])\n",
    "        nearest_neighbours_indices = [point['index'] for point in nearest_points]\n",
    "        return self.majority(nearest_neighbours_indices)\n",
    "        \n",
    "        \n",
    "    def select_prototypes(self, X, y):\n",
    "        \"\"\"\n",
    "        Given the train data, select p random prototypes from data for classification\n",
    "        calculation.\n",
    "        \n",
    "        :param x: Training data input\n",
    "        :param y: Training data output\n",
    "        \"\"\"\n",
    "        indices = np.arange(0,len(X))\n",
    "        selected_indices = np.random.choice(indices, self._p, replace = False)\n",
    "        random_X = X[selected_indices]\n",
    "        random_y = y[selected_indices]\n",
    "        return random_X, random_y\n",
    "        \n",
    "    \n",
    "    def confusion_matrix(self, test_x, test_y):\n",
    "        \"\"\"\n",
    "        Given a matrix of test examples and labels, compute the confusion\n",
    "        matrix for the current classifier.  Should return a 2-dimensional\n",
    "        numpy array of ints, C, where C[ii,jj] is the number of times an \n",
    "        example with true label ii was labeled as jj.\n",
    "\n",
    "        :param test_x: test data \n",
    "        :param test_y: true test labels \n",
    "        \"\"\"\n",
    "        \n",
    "        C = np.zeros((10,10), dtype=int)\n",
    "        for xx, yy in zip(test_x, test_y):\n",
    "            predicted_yy = self.classify(xx)\n",
    "            C[yy][predicted_yy] = C[yy][predicted_yy] + 1\n",
    "        return C\n",
    "            \n",
    "    @staticmethod\n",
    "    def accuracy(C):\n",
    "        \"\"\"\n",
    "        Given a confusion matrix C, compute the accuracy of the underlying classifier.\n",
    "        \n",
    "        :param C: a confusion matrix \n",
    "        \"\"\"\n",
    "        \n",
    "        return np.sum(C.diagonal()) / C.sum()\n",
    "    "
   ]
  },
  {
   "cell_type": "code",
   "execution_count": 130,
   "metadata": {
    "ExecuteTime": {
     "end_time": "2018-09-04T06:37:10.241613Z",
     "start_time": "2018-09-04T06:37:10.198952Z"
    },
    "scrolled": true
   },
   "outputs": [
    {
     "name": "stderr",
     "output_type": "stream",
     "text": [
      "....\n",
      "----------------------------------------------------------------------\n",
      "Ran 4 tests in 0.024s\n",
      "\n",
      "OK\n"
     ]
    },
    {
     "data": {
      "text/plain": [
       "<unittest.runner.TextTestResult run=4 errors=0 failures=0>"
      ]
     },
     "execution_count": 130,
     "metadata": {},
     "output_type": "execute_result"
    }
   ],
   "source": [
    "import unittest\n",
    "\n",
    "class TestKnn(unittest.TestCase):\n",
    "    def setUp(self):\n",
    "        self.x = np.array([[2, 0], [4, 1], [6, 0], [1, 4], [2, 4], [2, 5], [4, 4], [0, 2], [3, 2], [4, 2], [5, 2], [5, 5]])\n",
    "        self.y = np.array([+1, +1, +1, +1, +1, +1, +1, -1, -1, -1, -1, -1])\n",
    "        self.knn = {}\n",
    "        for ii in [1, 2, 3]:\n",
    "            self.knn[ii] = Knearest(self.x, self.y, ii, len(self.x))\n",
    "\n",
    "        self.queries = np.array([[1, 5], [0, 3], [6, 4]])\n",
    "        \n",
    "    def test0(self):\n",
    "        \"\"\"\n",
    "        Test the label counter \n",
    "        \"\"\"\n",
    "        self.assertEqual(self.knn[1]._counts[-1], 5)\n",
    "        self.assertEqual(self.knn[1]._counts[1], 7)\n",
    "\n",
    "    def test1(self):\n",
    "        \"\"\"\n",
    "        Test 1NN\n",
    "        \"\"\"\n",
    "        self.assertEqual(self.knn[1].classify(self.queries[0]),  1)\n",
    "        self.assertEqual(self.knn[1].classify(self.queries[1]), -1)\n",
    "        self.assertEqual(self.knn[1].classify(self.queries[2]), -1)\n",
    "\n",
    "    def test2(self):\n",
    "        \"\"\"\n",
    "        Test 2NN\n",
    "        \"\"\"\n",
    "        self.assertEqual(self.knn[2].classify(self.queries[0]),  1)\n",
    "        self.assertEqual(self.knn[2].classify(self.queries[1]),  1)\n",
    "        self.assertEqual(self.knn[2].classify(self.queries[2]),  1)\n",
    "\n",
    "    def test3(self):\n",
    "        \"\"\"\n",
    "        Test 3NN\n",
    "        \"\"\"\n",
    "        self.assertEqual(self.knn[3].classify(self.queries[0]),  1)\n",
    "        self.assertEqual(self.knn[3].classify(self.queries[1]),  1)\n",
    "        self.assertEqual(self.knn[3].classify(self.queries[2]), -1)\n",
    "        \n",
    "tests = TestKnn()\n",
    "tests_to_run = unittest.TestLoader().loadTestsFromModule(tests)\n",
    "unittest.TextTestRunner().run(tests_to_run)"
   ]
  },
  {
   "cell_type": "markdown",
   "metadata": {},
   "source": [
    "Now, you'll explore the performance of the classifier you've written.\n",
    "\n",
    "**Part A:** Explore the relationship between the number of training examples and accuracy on the test set. Comment on your findings and support your observations with some kind of plot.\n",
    "\n",
    "> __Comments on findings:__\n",
    "> On fixing the value of nearest neighbours $k=3$, number of prototypes $p=1000$ and varying the size of the training set, from 2500 to 25000 with increments of 2500, it becomes apparent that the changing the size of the training set has no substantial effect on the accuracy of classifier. Reason for this being that eventually the accuracy of the classifier shall be the determined by the quality and quantity of the data we train our classifier with, which is the constant number of prototypes. The accuracies of the classifer varies between $min_{accuracy} = 87\\%$ and $max_{accuracy} = 89\\%$. The quantities of $min_{accuracy}$ and $max_{accuracy}$ may vary by minor amounts when the following code is run each time, as the prototypes for each classifier are selected randomly. "
   ]
  },
  {
   "cell_type": "code",
   "execution_count": 82,
   "metadata": {
    "scrolled": false
   },
   "outputs": [
    {
     "name": "stdout",
     "output_type": "stream",
     "text": [
      "Computed accuracy for number of training samples: 2500\n",
      "Computed accuracy for number of training samples: 5000\n",
      "Computed accuracy for number of training samples: 7500\n",
      "Computed accuracy for number of training samples: 10000\n",
      "Computed accuracy for number of training samples: 12500\n",
      "Computed accuracy for number of training samples: 15000\n",
      "Computed accuracy for number of training samples: 17500\n",
      "Computed accuracy for number of training samples: 20000\n",
      "Computed accuracy for number of training samples: 22500\n",
      "Computed accuracy for number of training samples: 25000\n",
      "\n",
      " Graph of Accuracy(y-axis) vs Size of Training set(x-axis):\n"
     ]
    },
    {
     "data": {
      "image/png": "[encoded data removed]",
      "text/plain": [
       "<Figure size 432x288 with 1 Axes>"
      ]
     },
     "metadata": {},
     "output_type": "display_data"
    },
    {
     "name": "stdout",
     "output_type": "stream",
     "text": [
      "Observations:\n",
      "Minimum accuracy = 0.8787\n",
      "Minimum accuracy = 0.894\n"
     ]
    }
   ],
   "source": [
    "sample_accuracy_dict = {}\n",
    "for i in range(2500, 25001, 2500):\n",
    "    sample_train_x, sample_train_y = data.train_x[:i], data.train_y[:i]\n",
    "    classifier = Knearest(sample_train_x, sample_train_y, k=3, p=1000)\n",
    "    confusion_matrix = classifier.confusion_matrix(data.test_x, data.test_y)\n",
    "    sample_accuracy_dict[i] = classifier.accuracy(confusion_matrix)\n",
    "    print(\"Computed accuracy for number of training samples: \"+str(i))\n",
    "\n",
    "number_of_samples = np.array(list(sample_accuracy_dict.keys()))\n",
    "accuracies = np.array(list(sample_accuracy_dict.values()))\n",
    "print(\"\\n Graph of Accuracy(y-axis) vs Size of Training set(x-axis):\")\n",
    "plt.plot(number_of_samples, accuracies)\n",
    "plt.axis([0, 25000, 0, 1])\n",
    "plt.xlabel('number of training samples')\n",
    "plt.ylabel('accuracy')\n",
    "plt.show()\n",
    "print(\"Observations:\")\n",
    "print(\"Minimum accuracy = \"+str(min(accuracies)))\n",
    "print(\"Minimum accuracy = \"+str(max(accuracies)))"
   ]
  },
  {
   "cell_type": "markdown",
   "metadata": {},
   "source": [
    "**Part B**: Explore the relationship between the number of nearest neighbors and accuracy on the test set. Comment on your findings and support your observations with some kind of plot.\n",
    "\n",
    "__Comment on findings:__\n",
    "> When we fixed the value of the number of prototypes to $p=1000$ and vary the value of  $k$ from $\\text{1 to 10}$ we find that the maximum accuracy occurs at the value of $k = 1$ and the 2nd best at when $k=3$. The best accuracy is received at $k=1$ because of the absence of ties which may not be settled accurately. When ties occur, they are eventually settled by giving the veto to the class which has a greater presence in the training set, which doesn't promise to give accurate results thus introducing inaccuracy in the predictions, which is precisely why the accuracy decreases in case of $k=2$ as the chances of ties occuring increase signifiantly due to a 1 vs 1 situation. We also observe that the accuracy follows a steep decreasing trend, when we keep increasing the value of $k$. Two graphs of the same data have been plotted below for better understanding of the trends of accuracy., First one has been scaled to range of the received accuracy and the second one is scaled to a fix range of accuracy(0, 1)."
   ]
  },
  {
   "cell_type": "code",
   "execution_count": 101,
   "metadata": {},
   "outputs": [
    {
     "name": "stdout",
     "output_type": "stream",
     "text": [
      "Computed accuracy for K =  1  is  0.8873\n",
      "Computed accuracy for K =  2  is  0.8587\n",
      "Computed accuracy for K =  3  is  0.8838\n",
      "Computed accuracy for K =  4  is  0.8818\n",
      "Computed accuracy for K =  5  is  0.8726\n",
      "Computed accuracy for K =  6  is  0.8627\n",
      "Computed accuracy for K =  7  is  0.8825\n",
      "Computed accuracy for K =  8  is  0.8723\n",
      "Computed accuracy for K =  9  is  0.878\n",
      "Computed accuracy for K =  10  is  0.8573\n",
      "\n",
      " Graph of Accuracy(y-axis) vs K (x-axis):\n"
     ]
    },
    {
     "data": {
      "image/png": "[encoded data removed]",
      "text/plain": [
       "<Figure size 432x288 with 1 Axes>"
      ]
     },
     "metadata": {},
     "output_type": "display_data"
    },
    {
     "data": {
      "image/png": "[encoded data removed]",
      "text/plain": [
       "<Figure size 432x288 with 1 Axes>"
      ]
     },
     "metadata": {},
     "output_type": "display_data"
    },
    {
     "name": "stdout",
     "output_type": "stream",
     "text": [
      "Observations:\n",
      "Minimum accuracy = 0.8573 for K=10\n",
      "Maximum accuracy = 0.8873 for K=1\n"
     ]
    }
   ],
   "source": [
    "neighbours_accuracy_dict = {}\n",
    "for i in range(1,11):\n",
    "    classifier = Knearest(data.train_x, data.train_y, k = i, p = 1000)\n",
    "    confusion_matrix = classifier.confusion_matrix(data.test_x, data.test_y)\n",
    "    neighbours_accuracy_dict[i] = classifier.accuracy(confusion_matrix)\n",
    "    print(\"Computed accuracy for K = \",i,\" is \", neighbours_accuracy_dict[i])\n",
    "neighbours = np.array(list(neighbours_accuracy_dict.keys()))\n",
    "accuracies = np.array(list(neighbours_accuracy_dict.values()))\n",
    "print(\"\\n Graph of Accuracy(y-axis) vs K (x-axis):\")\n",
    "\n",
    "plt.figure(1)\n",
    "plt.plot(neighbours, accuracies)\n",
    "plt.xlabel('K')\n",
    "plt.ylabel('accuracy')\n",
    "plt.show()\n",
    "\n",
    "plt.figure(1)\n",
    "plt.plot(neighbours, accuracies)\n",
    "plt.axis([0, 10, 0, 1])\n",
    "plt.xlabel('K')\n",
    "plt.ylabel('accuracy')\n",
    "plt.show()\n",
    "print(\"Observations:\")\n",
    "print(\"Minimum accuracy = \"+str(min(accuracies))+' for K='+str(neighbours[np.argmin(accuracies)]))\n",
    "print(\"Maximum accuracy = \"+str(max(accuracies))+' for K='+str(neighbours[np.argmax(accuracies)]))"
   ]
  },
  {
   "cell_type": "markdown",
   "metadata": {},
   "source": [
    "**Part C**: Which numbers get confused with each other the most easily?  Use the confusion_matrix function that you wrote above to support your conclusion.  Then use the `view_digit` function given below to plot a few examples of misclassified digits and discuss possible reasons for the misclassifications.  (Investigating misclassified examples is called **error analysis** and is an important step in the development of any classification technique).  \n",
    "\n",
    "__Solution:__\n",
    "> Some numbers that often get confused for others are  4 which gets confused for 9, 5 which gets confused for 3 & 8 gets confused for 3. A few Less frequent cases of confusion are also observed when 2 & 7 gets confused for 1 and  9 also gets confused for 7. <br><br>\n",
    "__Cause for Confusion:__<br>\n",
    "There are two possible causes for this confusion: <br>\n",
    "a. First that the handwritten numbers look visully similar due to the specific way they are written thus creating an ambiguity, for example if the stem of a four is longer or it has closed triangular loop at the top instead of the open U shaped structure like it has digital displays then such a 4 is more likely to classified as a 9. <br>\n",
    "b. Second reason could be the way the ties are settled. Due to 9 having a greater presence(more data points) in the database it is possible that the veto eventually goes to 9 in case of a tie leading to a 4 being classified as a 9. The same reason can be extended for 5 and 8 being classified as 3, as the presence of 3 exceeds the presence of 5 and 8 each in the training database. "
   ]
  },
  {
   "cell_type": "code",
   "execution_count": 102,
   "metadata": {
    "ExecuteTime": {
     "end_time": "2018-08-31T22:52:11.759526Z",
     "start_time": "2018-08-31T22:52:11.611171Z"
    }
   },
   "outputs": [
    {
     "name": "stdout",
     "output_type": "stream",
     "text": [
      "Confusion matrix prepared!\n"
     ]
    },
    {
     "data": {
      "image/png": "[encoded data removed]",
      "text/plain": [
       "<Figure size 1008x1008 with 2 Axes>"
      ]
     },
     "metadata": {},
     "output_type": "display_data"
    },
    {
     "name": "stdout",
     "output_type": "stream",
     "text": [
      "true label: 5\n"
     ]
    },
    {
     "data": {
      "image/png": "[encoded data removed]",
      "text/plain": [
       "<Figure size 432x288 with 1 Axes>"
      ]
     },
     "metadata": {},
     "output_type": "display_data"
    },
    {
     "name": "stdout",
     "output_type": "stream",
     "text": [
      "true label: 8\n"
     ]
    },
    {
     "data": {
      "image/png": "[encoded data removed]",
      "text/plain": [
       "<Figure size 432x288 with 1 Axes>"
      ]
     },
     "metadata": {},
     "output_type": "display_data"
    },
    {
     "name": "stdout",
     "output_type": "stream",
     "text": [
      "true label: 4\n"
     ]
    },
    {
     "data": {
      "image/png": "[encoded data removed]",
      "text/plain": [
       "<Figure size 432x288 with 1 Axes>"
      ]
     },
     "metadata": {},
     "output_type": "display_data"
    }
   ],
   "source": [
    "import pandas as pd\n",
    "import seaborn as sn\n",
    "def view_digit(example, label=None):\n",
    "    if label: print(\"true label: {:d}\".format(label))\n",
    "    plt.imshow(example.reshape(28,28), cmap='gray');\n",
    "\n",
    "classifier = Knearest(data.train_x, data.train_y, k = 1, p = 1000)\n",
    "knn_confusion_matrix = classifier.confusion_matrix(data.test_x, data.test_y)\n",
    "print('Confusion matrix prepared!')\n",
    "data_frame_conf_mat = pd.DataFrame(knn_confusion_matrix, index = list(range(0,10)), columns = list(range(0,10)))\n",
    "plt.figure(1, figsize = (14,14))\n",
    "sn.heatmap(data_frame_conf_mat, annot = True, fmt = 'g')\n",
    "plt.show()\n",
    "\n",
    "plt.figure(2)\n",
    "view_digit(data.test_x[881,:], data.test_y[881])\n",
    "plt.show()\n",
    "plt.figure(3)\n",
    "view_digit(data.test_x[133,:], data.test_y[133])\n",
    "plt.show()\n",
    "plt.figure(4)\n",
    "view_digit(data.test_x[858,:], data.test_y[858])\n",
    "plt.show()"
   ]
  },
  {
   "cell_type": "markdown",
   "metadata": {},
   "source": [
    "**Part D**: Now using the entire training dataset and best value of `k` found from previous analysis, plot test accuracy vs number of prototypes for reasonable values of p (more than 1000). What are the trade-offs you are making when using prototypes instead of all the training examples?\n",
    "\n",
    "__Solution :__\n",
    "> We observe that the accuracy keeps on increasing when we increase the number of prototypes to chose the nearest neighbours from which we have fixed to a $k=1$. More number of prototypes would increase the accuracy as considering more data points would cover more cases. At number of prototype $p = 9000$ we get an accuracy of around  95.5 % after which the growth in accuracy appears to become more and steeper but nevertheless grows and unfortunately so does the computation time. Though our model would be more accurate with more number of prototypes, the computation time would be just as high. Thus we compromise on the accuracy of the classifier by an expendable amount without substantially lowering the accuracy thus making fair trade-off, say by only considering 5000 data points for an accuracy of $94 \\pm0.5\\%$ .\n"
   ]
  },
  {
   "cell_type": "code",
   "execution_count": 104,
   "metadata": {},
   "outputs": [
    {
     "name": "stdout",
     "output_type": "stream",
     "text": [
      "Computed accuracy for number of prototypes: 1000\n",
      "Computed accuracy for number of prototypes: 2000\n",
      "Computed accuracy for number of prototypes: 3000\n",
      "Computed accuracy for number of prototypes: 4000\n",
      "Computed accuracy for number of prototypes: 5000\n",
      "Computed accuracy for number of prototypes: 6000\n",
      "Computed accuracy for number of prototypes: 7000\n",
      "Computed accuracy for number of prototypes: 8000\n",
      "Computed accuracy for number of prototypes: 9000\n",
      "Computed accuracy for number of prototypes: 10000\n",
      "\n",
      " Graph of Accuracy(y-axis) vs Size of Prototypes(x-axis):\n"
     ]
    },
    {
     "data": {
      "image/png": "[encoded data removed]",
      "text/plain": [
       "<Figure size 432x288 with 1 Axes>"
      ]
     },
     "metadata": {},
     "output_type": "display_data"
    },
    {
     "name": "stdout",
     "output_type": "stream",
     "text": [
      "Observations:\n",
      "Minimum accuracy = 0.8941 for # of prototypes = 1000\n",
      "Maximum accuracy = 0.9518 for # of prototypes = 9000\n"
     ]
    }
   ],
   "source": [
    "sample_accuracy_dict = {}\n",
    "for i in range(1000, 10001, 1000):\n",
    "    classifier = Knearest(data.train_x, data.train_y, k=1, p=i)\n",
    "    confusion_matrix = classifier.confusion_matrix(data.test_x, data.test_y)\n",
    "    sample_accuracy_dict[i] = classifier.accuracy(confusion_matrix)\n",
    "    print(\"Computed accuracy for number of prototypes: \"+str(i))\n",
    "\n",
    "number_of_samples = np.array(list(sample_accuracy_dict.keys()))\n",
    "accuracies = np.array(list(sample_accuracy_dict.values()))\n",
    "print(\"\\n Graph of Accuracy(y-axis) vs Size of Prototypes(x-axis):\")\n",
    "plt.plot(number_of_samples, accuracies)\n",
    "plt.xlabel('number of training samples')\n",
    "plt.ylabel('accuracy')\n",
    "plt.show()\n",
    "print(\"Observations:\")\n",
    "print(\"Minimum accuracy = \"+str(min(accuracies))+\" for # of prototypes = \"+str(number_of_samples[np.argmin(accuracies)]))\n",
    "print(\"Maximum accuracy = \"+str(max(accuracies))+\" for # of prototypes = \"+str(number_of_samples[np.argmax(accuracies)]))"
   ]
  },
  {
   "cell_type": "markdown",
   "metadata": {},
   "source": [
    "### Perceptron - 10 points\n",
    "***\n",
    "Consider the IRIS dataset discussed in lecture. We have created a binary classification problem to determine whether a given flower is a setosa or not. To create this, we pre-processed the labels to create a label vector where setosa’s label is unchanged (i.e. its label is 1), but both versicolor and virginica are now labeled as -1. The data contains two out of the four attributes, petal width and petal length. This training data and the modified labels can be loaded using `IrisM` class. We are going to use this dataset for training a Perceptron classifier in subsequent problems. \n",
    "<br>\n",
    "\n",
    "![Samples of Iris Flowers](wide_iris.png \"Iris Dataset\")\n",
    "\n",
    "\n",
    "<br>"
   ]
  },
  {
   "cell_type": "code",
   "execution_count": 112,
   "metadata": {
    "ExecuteTime": {
     "end_time": "2018-08-31T22:13:40.515103Z",
     "start_time": "2018-08-31T22:13:40.505050Z"
    }
   },
   "outputs": [],
   "source": [
    "class IrisM:\n",
    "    \"\"\"\n",
    "    Class to store modified iris data for Perceptron Training\n",
    "    \"\"\"\n",
    "    \n",
    "    def __init__(self):\n",
    "        from sklearn import datasets\n",
    "        \n",
    "        iris = datasets.load_iris()\n",
    "        \n",
    "        # only taking first two features\n",
    "        X = iris.data[:, :2]\n",
    "        y = iris.target[:]\n",
    "        \n",
    "        # only considering whether it is setosa or not\n",
    "        y[iris.target != 0] = -1\n",
    "        y[iris.target == 0] = 1\n",
    "        \n",
    "        mask = np.random.choice(a = [False, True], size = 150, p = (0.66, 1 - 0.66))\n",
    "        \n",
    "        self.train_x, self.train_y = X[mask], y[mask]\n",
    "        self.test_x, self.test_y = X[~mask], y[~mask]\n",
    "        \n",
    "        "
   ]
  },
  {
   "cell_type": "code",
   "execution_count": 120,
   "metadata": {},
   "outputs": [],
   "source": [
    "iris = IrisM()"
   ]
  },
  {
   "cell_type": "markdown",
   "metadata": {},
   "source": [
    "The class below implements Perceptron classifier in Python on modified IRIS data. The `Peceptron` class implements a Perceptron classifier on a training set of n examples, each of which is  d dimensional vector. The labels for the examples are -1 or 1. This is a simple preceptron classifier seen in class where the linear separator passes through the origin i.e has offset parameter = 0. Your tasks are as following:\n",
    "1. Implement `train` function which trains a Perceptron classifier on a training set. The function should return $\\theta$, the final classification vector and the number of updates performed\n",
    "1. Implement `predict` function which takes an example as input and returns the predicted label\n",
    "1. Implement `margin` function which returns geometric margin of the classifier"
   ]
  },
  {
   "cell_type": "code",
   "execution_count": 128,
   "metadata": {},
   "outputs": [],
   "source": [
    "class Perceptron:\n",
    "    \"\"\"\n",
    "    Perceptron Classifier\n",
    "    \"\"\"\n",
    "    \n",
    "    def __init__(self, X, y):\n",
    "        \"\"\"\n",
    "        Creates a kNN instance\n",
    "\n",
    "        :param X: Training data input\n",
    "        :param y: Training data output\n",
    "        \"\"\"\n",
    "        self._X = X\n",
    "        self._y = y\n",
    "        self._theta, self._iter = self.train(X, y)\n",
    "        \n",
    "    def train(self, X, y):\n",
    "        \"\"\"\n",
    "        Train perceptron and return final classification vector and\n",
    "        the number of updates performed respectively\n",
    "        \n",
    "        :param X: Training data input\n",
    "        :param y: Training data output\n",
    "        \"\"\"              \n",
    "        valid = False\n",
    "        i = iterations = 0\n",
    "        theta = [1]*len(X[0])\n",
    "        learning_rate = 0.01\n",
    "        max_iterations = 1000\n",
    "        for k in range(0, max_iterations):\n",
    "            dot_product = y[i]*np.dot(theta, X[i])\n",
    "            if dot_product < 0:\n",
    "                theta = theta + learning_rate*y[i]*X[i]\n",
    "                iterations = iterations + 1\n",
    "            i = (i + 1)%len(X)\n",
    "        return theta, iterations\n",
    "    \n",
    "    def predict(self, X):\n",
    "        \"\"\"\n",
    "        Predicts the label for input\n",
    "        \n",
    "        :param X: Testing data input\n",
    "        \"\"\"\n",
    "        return np.sign(np.dot(self._theta, X))\n",
    "    \n",
    "    def margin(self):\n",
    "        \"\"\"\n",
    "        Returns geometric margin of the classifier\n",
    "        \"\"\"\n",
    "        normalized_theta = self._theta/np.linalg.norm(self._theta)\n",
    "        return np.amin(self._y*np.dot(normalized_theta, np.transpose(self._X)))\n",
    "        \n",
    "        "
   ]
  },
  {
   "cell_type": "code",
   "execution_count": 129,
   "metadata": {
    "ExecuteTime": {
     "end_time": "2018-08-31T22:15:02.247890Z",
     "start_time": "2018-08-31T22:15:02.242423Z"
    }
   },
   "outputs": [
    {
     "name": "stderr",
     "output_type": "stream",
     "text": [
      ".\n",
      "----------------------------------------------------------------------\n",
      "Ran 1 test in 0.015s\n",
      "\n",
      "OK\n"
     ]
    },
    {
     "data": {
      "text/plain": [
       "<unittest.runner.TextTestResult run=1 errors=0 failures=0>"
      ]
     },
     "execution_count": 129,
     "metadata": {},
     "output_type": "execute_result"
    }
   ],
   "source": [
    "import unittest\n",
    "\n",
    "class TestPerceptron(unittest.TestCase):\n",
    "    def setUp(self):\n",
    "        self.x = np.array([[1, 2], [4, 5], [2, 1], [5, 4]])\n",
    "        self.y = np.array([+1, +1, -1, -1])\n",
    "        self.perceptron = Perceptron(self.x, self.y)\n",
    "        self.queries = np.array([[1, 5], [0, 3], [6, 4], [2, 2]])\n",
    "\n",
    "    def test0(self):\n",
    "        \"\"\"\n",
    "        Test Perceptron\n",
    "        \"\"\"\n",
    "        self.assertEqual(self.perceptron.predict(self.queries[0]),  1)\n",
    "        self.assertEqual(self.perceptron.predict(self.queries[1]),  1)\n",
    "        self.assertEqual(self.perceptron.predict(self.queries[2]), -1)\n",
    "        self.assertEqual(self.perceptron.predict(self.queries[3]), -1)\n",
    "        \n",
    "tests = TestPerceptron()\n",
    "tests_to_run = unittest.TestLoader().loadTestsFromModule(tests)\n",
    "unittest.TextTestRunner().run(tests_to_run)"
   ]
  },
  {
   "cell_type": "markdown",
   "metadata": {},
   "source": [
    "Now, we are going to using `IrisM` dataset to train a perceptron using `Perceptron` class."
   ]
  },
  {
   "cell_type": "markdown",
   "metadata": {},
   "source": [
    "**Part A:** From class we know that this data is linearly separable but the separator does not pass through the origin. Therefore you will need to follow the technique used in lecture to further pre-process the data to be linearly separable through the origin: for each data point, add an additional feature, set to a constant value (please use the value 1 for consistency). Then, use the `Perceptron` class to train a Perceptron classifier."
   ]
  },
  {
   "cell_type": "code",
   "execution_count": 123,
   "metadata": {},
   "outputs": [],
   "source": [
    "classifier = Perceptron(np.insert(iris.train_x, 0, 1, axis = 1),iris.train_y)"
   ]
  },
  {
   "cell_type": "markdown",
   "metadata": {},
   "source": [
    "**Part B:** What is the angle between Perceptron's classification vector and vector $(1, 0)^T$? Report number of iterations to converge and the accuracy on test set."
   ]
  },
  {
   "cell_type": "code",
   "execution_count": 124,
   "metadata": {},
   "outputs": [
    {
     "name": "stdout",
     "output_type": "stream",
     "text": [
      "--------Angle between perceptron classification vector and [1,0]^T--------------\n",
      "Angle : 72.24764870055523 degrees = 1.2603200939985746 Radians\n",
      "------------------Number of Iterations------------------------------------------\n",
      "Iterations:  22\n",
      "------------------Accuracy on Test Set------------------------------------------\n",
      "Accuracy :  1.0\n"
     ]
    }
   ],
   "source": [
    "print('--------Angle between perceptron classification vector and [1,0]^T--------------')\n",
    "t = np.array([1,1,0])\n",
    "length_theta = math.sqrt(sum(classifier._theta*classifier._theta))\n",
    "length_t = math.sqrt(sum(t*t))\n",
    "angle = 180*np.arccos(np.dot(classifier._theta, t)/(length_theta*length_t))/3.1416\n",
    "print(\"Angle :\",angle, 'degrees =', angle*3.14/180, 'Radians')\n",
    "\n",
    "print('------------------Number of Iterations------------------------------------------')\n",
    "print(\"Iterations: \",classifier._iter)\n",
    "\n",
    "print('------------------Accuracy on Test Set------------------------------------------')\n",
    "count = 0\n",
    "for xx, yy in zip(np.insert(iris.test_x, 0, 1, axis = 1), iris.test_y):\n",
    "    predicted_yy = classifier.predict(xx)\n",
    "    if yy == predicted_yy:\n",
    "        count = count+1\n",
    "print(\"Accuracy : \", count/len(iris.test_x))\n"
   ]
  },
  {
   "cell_type": "markdown",
   "metadata": {},
   "source": [
    "**Part C:** Compute the geometric margins of your classifier with respect to the `IrisM` dataset used. Recall that the distance of a point from $x_t$ from the line $\\theta^T x = 0$ is $\\frac{\\theta^Tx_t}{||x||}$"
   ]
  },
  {
   "cell_type": "code",
   "execution_count": 125,
   "metadata": {},
   "outputs": [
    {
     "name": "stdout",
     "output_type": "stream",
     "text": [
      "Margin :  0.061041963760782636\n"
     ]
    }
   ],
   "source": [
    "margin = classifier.margin()\n",
    "print(\"Margin : \", margin)"
   ]
  },
  {
   "cell_type": "code",
   "execution_count": null,
   "metadata": {},
   "outputs": [],
   "source": []
  }
 ],
 "metadata": {
  "kernelspec": {
   "display_name": "Python 3",
   "language": "python",
   "name": "python3"
  },
  "language_info": {
   "codemirror_mode": {
    "name": "ipython",
    "version": 3
   },
   "file_extension": ".py",
   "mimetype": "text/x-python",
   "name": "python",
   "nbconvert_exporter": "python",
   "pygments_lexer": "ipython3",
   "version": "3.5.6"
  },
  "varInspector": {
   "cols": {
    "lenName": 16,
    "lenType": 16,
    "lenVar": 40
   },
   "kernels_config": {
    "python": {
     "delete_cmd_postfix": "",
     "delete_cmd_prefix": "del ",
     "library": "var_list.py",
     "varRefreshCmd": "print(var_dic_list())"
    },
    "r": {
     "delete_cmd_postfix": ") ",
     "delete_cmd_prefix": "rm(",
     "library": "var_list.r",
     "varRefreshCmd": "cat(var_dic_list()) "
    }
   },
   "types_to_exclude": [
    "module",
    "function",
    "builtin_function_or_method",
    "instance",
    "_Feature"
   ],
   "window_display": false
  }
 },
 "nbformat": 4,
 "nbformat_minor": 2
}
