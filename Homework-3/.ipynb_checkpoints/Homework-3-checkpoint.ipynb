{
 "cells": [
  {
   "cell_type": "markdown",
   "metadata": {},
   "source": [
    "# Homework - 3\n",
    "***\n",
    "**Name**: \n",
    "***\n",
    "\n",
    "This assignment is due on Canvas by **5pm on Friday October 19th**. Submit only this Jupyter notebook to Canvas.  Do not compress it using tar, rar, zip, etc. Your solutions to analysis questions should be done in Markdown directly below the associated question.  Remember that you are encouraged to discuss the problems with your classmates and instructors, but **you must write all code and solutions on your own**, and list any people or sources consulted."
   ]
  },
  {
   "cell_type": "markdown",
   "metadata": {},
   "source": [
    "### Problem - 1 [5 points]"
   ]
  },
  {
   "cell_type": "markdown",
   "metadata": {},
   "source": [
    "Consider a single Boolean random variable $Y$ (the \"classification\"). Let the prior probability $P(Y= true)$ be $\\pi$. Let's try to find $\\pi$, given a training set $D = (y_1,\\cdots, y_N)$ with $N$ independent samples of $Y$. Furthermore, suppose $p$ of the $N$ samples are positive (i.e, labeled as true) and $n$ of the $N$ samples are negative."
   ]
  },
  {
   "cell_type": "markdown",
   "metadata": {},
   "source": [
    "1. Write down an expression for the likelihood of $D$ (that is, the probability of seeing this particular sequence of examples, given a fixed value of $\\pi$) in terms of $\\pi$, $p$ and $n$."
   ]
  },
  {
   "cell_type": "code",
   "execution_count": null,
   "metadata": {},
   "outputs": [],
   "source": []
  },
  {
   "cell_type": "markdown",
   "metadata": {},
   "source": [
    "2. By differentiating the log likelihood $L$, find the value of $\\pi$ that maximizes the likelihood"
   ]
  },
  {
   "cell_type": "code",
   "execution_count": null,
   "metadata": {},
   "outputs": [],
   "source": []
  },
  {
   "cell_type": "markdown",
   "metadata": {},
   "source": [
    "3. Write down the likelihood for the data including the attributes, using the following additional notation:\n",
    "\n",
    "    * $\\alpha_i$ is $P(X_i = true | Y = true)$\n",
    "    * $\\beta_i$ is $P(X_i = true | Y = false)$\n",
    "    * $p_i^+$ is the count of samples for which $X_i = true$ and $Y = true$\n",
    "    * $n_i^+$ is the count of samples for which $X_i = false$ and $Y = true$\n",
    "    * $p_i^-$ is the count of samples for which $X_i = true$ and $Y = false$\n",
    "    * $n_i^-$ is the count of samples for which $X_i = false$ and $Y = false$"
   ]
  },
  {
   "cell_type": "code",
   "execution_count": null,
   "metadata": {},
   "outputs": [],
   "source": []
  },
  {
   "cell_type": "markdown",
   "metadata": {},
   "source": [
    "4. By differentiating the log likelihood L, find the values of $\\alpha_i$ and $\\beta_i$ (in terms of the various counts) that maximize the likelihood"
   ]
  },
  {
   "cell_type": "code",
   "execution_count": null,
   "metadata": {},
   "outputs": [],
   "source": []
  },
  {
   "cell_type": "markdown",
   "metadata": {},
   "source": [
    "### Classification with \"Naive Bayes\" generative model [10 points]"
   ]
  },
  {
   "cell_type": "code",
   "execution_count": 3,
   "metadata": {
    "ExecuteTime": {
     "end_time": "2018-10-02T23:00:27.087192Z",
     "start_time": "2018-10-02T23:00:27.083634Z"
    }
   },
   "outputs": [],
   "source": [
    "from scipy.io import loadmat\n",
    "\n",
    "class SPECT:\n",
    "    def __init__(self):\n",
    "        ff = lambda x, y : loadmat(x)[y]\n",
    "        \n",
    "        self.X_train = ff('data/SPECTtrainData.mat','trainData')\n",
    "        self.y_train = ff('data/SPECTtrainLabels.mat','trainLabels')\n",
    "        \n",
    "        self.X_test = ff('data/SPECTtestData.mat', 'testData')\n",
    "        self.y_test = ff('data/SPECTtestLabels.mat', 'testLabels')\n",
    "        \n",
    "        "
   ]
  },
  {
   "cell_type": "code",
   "execution_count": 10,
   "metadata": {
    "ExecuteTime": {
     "end_time": "2018-10-02T23:00:27.269981Z",
     "start_time": "2018-10-02T23:00:27.264351Z"
    }
   },
   "outputs": [],
   "source": [
    "# Label normal : 1 abnormal : 0\n",
    "data1 = SPECT()"
   ]
  },
  {
   "cell_type": "markdown",
   "metadata": {},
   "source": [
    "You are given the `SPECT` class with train and test data. These were created from the medical data on cardiac Single Proton Emission Tomography (SPECT) images of patients and each patient is classified into two categories: normal or abnormal. The database of 267 SPECT images sets (patients) was processed to extract features that summarize the original SPECT images. As a result, you are given a training set of 187 patterns and a test set of 80 patterns, each with 22 binary feature. The goal is to build a generative model of each group (normal: 1 and abnormal: 0), and to use these models to classify future patients. "
   ]
  },
  {
   "cell_type": "markdown",
   "metadata": {},
   "source": [
    "For each of the groups, use the training data to build a probabilistic model, assuming that the different features are independent. The model for a group should have 22 parameters $p_i \\in [0,1]$; the probability of a particular data point $x \\in \\{0, 1\\}^{22}$ is then\n",
    "\n",
    "$$\\prod_{i=1}^{22}p_i^{x_i}(1-p_i)^{1-x_i}$$\n",
    "\n",
    "A natural choice is to set $p_i$ to the proportion of training documents (from that particular group) for which $x_i = 1$. In practice, this can be dangerous - when these are lots of features, and any given feature is 1 only a tiny fraction of the time, there often isn't enough data to reliably estimate all the $p_i$ in this way. Therefore, it is common to smooth the estimates somewhat, by setting:\n",
    "\n",
    "$$ p_i = \\frac{\\text{(number of points with $x_i = 1$)} + n\\tilde{p}}{\\text{(number of points)} + n}$$\n",
    "\n",
    "where n is a small integer and $\\tilde{p}$ is a prior estimate of the value of $p_i$. To keep this simple, use $n=2$ and $\\tilde{p}=0.5$"
   ]
  },
  {
   "cell_type": "markdown",
   "metadata": {},
   "source": [
    "**Q:** Now implement Naive Bayes model to classify the test examples. Recall that `NaiveBayes` assumes that the conditional property of the features is independent given the label variable.\n",
    "\n",
    "   * Finish `fit` method to generate probabilistic model for both the groups\n",
    "   * Finish `predict` method to return predicted label for the data point "
   ]
  },
  {
   "cell_type": "code",
   "execution_count": null,
   "metadata": {
    "ExecuteTime": {
     "end_time": "2018-10-02T23:00:28.130369Z",
     "start_time": "2018-10-02T23:00:28.123508Z"
    }
   },
   "outputs": [],
   "source": [
    "import numpy as np\n",
    "class NaiveBayes:\n",
    "    def __init__(self, n = 2, prior = 0.5):\n",
    "        \"\"\"\n",
    "        Create a NaiveBayes classifier\n",
    "        :param n : small integer\n",
    "        :param prior: prior estimate of the value of pi\n",
    "        \"\"\"\n",
    "        \n",
    "        self.n = n\n",
    "        self.prior = prior\n",
    "        self.normal_model = None\n",
    "        self.abnormal_model = None\n",
    "\n",
    "        \n",
    "    def fit(self, X_train, y_train):\n",
    "        \"\"\"\n",
    "        Generate probabilistic models for normal and abmornal group.\n",
    "        Use self.normal_model and self.abnormal_model to store \n",
    "        models for normal and abnormal groups respectively\n",
    "        \"\"\"\n",
    "        #TODO: Finish this function\n",
    "        \n",
    "                        \n",
    "    \n",
    "    def predict(self, data):\n",
    "        \"\"\"\n",
    "        Return predicted label for the input example\n",
    "        :param data: input example\n",
    "        \"\"\"\n",
    "            \n",
    "        #TODO: Finish this function"
   ]
  },
  {
   "cell_type": "markdown",
   "metadata": {},
   "source": [
    "**Q:** Find the error rate of your Naive Bayes algorithm on the test set"
   ]
  },
  {
   "cell_type": "code",
   "execution_count": null,
   "metadata": {
    "ExecuteTime": {
     "end_time": "2018-10-02T23:00:29.188080Z",
     "start_time": "2018-10-02T23:00:29.171147Z"
    }
   },
   "outputs": [],
   "source": []
  },
  {
   "cell_type": "markdown",
   "metadata": {},
   "source": [
    "### Logistic Regression - [15 points]"
   ]
  },
  {
   "cell_type": "code",
   "execution_count": 4,
   "metadata": {
    "ExecuteTime": {
     "end_time": "2018-10-02T23:12:05.403704Z",
     "start_time": "2018-10-02T23:12:05.398418Z"
    }
   },
   "outputs": [],
   "source": [
    "import matplotlib.pylab as plt\n",
    "%matplotlib inline\n",
    "import pickle, gzip       \n",
    "import numpy as np\n",
    "\n",
    "class Numbers:\n",
    "    \"\"\"\n",
    "    Class to store MNIST data for images of 9 and 8 only\n",
    "    \"\"\" \n",
    "    def __init__(self, location):\n",
    "        # You shouldn't have to modify this class, but you can if you'd like\n",
    "        # Load the dataset\n",
    "        with gzip.open(location, 'rb') as f:\n",
    "            train_set, valid_set, test_set = pickle.load(f)\n",
    " \n",
    "        self.train_x, self.train_y = train_set\n",
    "        train_indices = np.where(self.train_y > 7)\n",
    "        self.train_x, self.train_y = self.train_x[train_indices], self.train_y[train_indices]\n",
    "        self.train_y = self.train_y - 8\n",
    " \n",
    "        self.valid_x, self.valid_y = valid_set\n",
    "        valid_indices = np.where(self.valid_y > 7)\n",
    "        self.valid_x, self.valid_y = self.valid_x[valid_indices], self.valid_y[valid_indices]\n",
    "        self.valid_y = self.valid_y - 8"
   ]
  },
  {
   "cell_type": "code",
   "execution_count": 5,
   "metadata": {
    "ExecuteTime": {
     "end_time": "2018-10-02T23:12:06.324098Z",
     "start_time": "2018-10-02T23:12:05.617372Z"
    }
   },
   "outputs": [],
   "source": [
    "data2 = Numbers('data/mnist.pklz')"
   ]
  },
  {
   "cell_type": "code",
   "execution_count": 10,
   "metadata": {},
   "outputs": [
    {
     "name": "stdout",
     "output_type": "stream",
     "text": [
      "true label: 0\n"
     ]
    },
    {
     "data": {
      "image/png": "[encoded data removed]",
      "text/plain": [
       "<Figure size 432x288 with 1 Axes>"
      ]
     },
     "metadata": {
      "needs_background": "light"
     },
     "output_type": "display_data"
    }
   ],
   "source": [
    "def view_digit(example, label=None):\n",
    "    if label is not None: print(\"true label: {:d}\".format(label))\n",
    "    plt.imshow(example.reshape(28,28), cmap='gray');\n",
    "#view_digit(data2.train_x[0],data2.train_y[0])\n",
    "view_digit(data2.train_x[1],data2.train_y[1])"
   ]
  },
  {
   "cell_type": "markdown",
   "metadata": {},
   "source": [
    "In this homework you'll implement a Logistic Regression classifier to take drawings of either an eight or a nine and output corresponding label.\n",
    "* Finish the `sigmoid` function to return the output of applying the sigmoid function the input parameter\n",
    "\n",
    "* Finish the `sgd_update` function so that it performs stochastic gradient descent on the single training example and updates the weight vector correspondingly"
   ]
  },
  {
   "cell_type": "code",
   "execution_count": null,
   "metadata": {
    "ExecuteTime": {
     "end_time": "2018-10-02T23:11:28.318182Z",
     "start_time": "2018-10-02T23:11:28.309993Z"
    }
   },
   "outputs": [],
   "source": [
    "from collections import defaultdict\n",
    "class LogReg:\n",
    "    \n",
    "    def __init__(self, num_features, eta):\n",
    "        \"\"\"\n",
    "        Create a logistic regression classifier\n",
    "        :param num_features: The number of features (including bias)\n",
    "        :param eta: Learning rate (the default is a constant value)\n",
    "        \"\"\"\n",
    "        \n",
    "        self.w = np.zeros(num_features)\n",
    "        self.eta = eta\n",
    "        \n",
    "        \n",
    "    def sgd_update(self, x_i, y):\n",
    "        \"\"\"\n",
    "        Compute a stochastic gradient update to improve the log likelihood.\n",
    "        :param x_i: The features of the example to take the gradient with respect to\n",
    "        :param y: The target output of the example to take the gradient with respect to\n",
    "        :return: Return the new value of the regression coefficients\n",
    "        \"\"\"\n",
    " \n",
    "        # TODO: Finish this function to do a single stochastic gradient descent update\n",
    "        # and return the updated weight vector\n",
    "        \n",
    "        return self.w\n",
    "    \n",
    "    def sigmoid(self, score, threshold = 20.0):\n",
    "        \"\"\"\n",
    "        Prevent overflow of exp by capping activation at 20.\n",
    "        :param score: A real valued number to convert into a number between 0 and 1\n",
    "        \"\"\"\n",
    "        \n",
    "        if abs(score) > threshold:\n",
    "            score = threshold * np.sign(score)\n",
    "            \n",
    "        # TODO: Finish this function to return the output of applying the sigmoid\n",
    "        # function to the input score (Please do not use external libraries)\n",
    "        \n",
    "        return 1.0 \n",
    "    \n",
    "    def progress(self, examples_x, examples_y):\n",
    "        \"\"\"\n",
    "        Given a set of examples, computes the probability and accuracy\n",
    "        :param examples: The dataset to score\n",
    "        :return: A tuple of (log probability, accuracy)\n",
    "        \"\"\"\n",
    " \n",
    "        logprob = 0.0\n",
    "        num_right = 0\n",
    "        for x_i, y in zip(examples_x, examples_y):\n",
    "            p = self.sigmoid(self.w.dot(x_i))\n",
    "            if y == 1:\n",
    "                logprob += np.log(p)\n",
    "            else:\n",
    "                logprob += np.log(1.0 - p)\n",
    " \n",
    "            # Get accuracy\n",
    "            if abs(y - p) < 0.5:\n",
    "                num_right += 1\n",
    " \n",
    "        return logprob, float(num_right) / float(len(examples_y))"
   ]
  },
  {
   "cell_type": "markdown",
   "metadata": {},
   "source": [
    "**Q:** After completing the class above, loop over the training data and perform stochastic gradient descent for three different user-defined number of epochs, and five different values of eta range [1e-3, 1]. Train your model and do the following:\n",
    "\n",
    "* Using the `progress` method, calculate the accuracy on the training and the valid sets every 100 iterations. Plot them on same graph for every comparison.\n",
    "\n",
    "* Using `progress` method, calculate the accuracy on the validation set and store it for every epoch.\n",
    "\n",
    "Don't forget to shuffle your training data after each epoch."
   ]
  },
  {
   "cell_type": "code",
   "execution_count": null,
   "metadata": {
    "ExecuteTime": {
     "end_time": "2018-10-03T00:26:04.749659Z",
     "start_time": "2018-10-03T00:26:04.746391Z"
    }
   },
   "outputs": [],
   "source": [
    "# Loop over training data and perform updates\n",
    "# Sample code:\n",
    "# lr = LogReg(data2.train_x.shape[1], eta)\n",
    "# iteration = 0\n",
    "# for epoch in range(epochs):\n",
    "# shuffle the data"
   ]
  },
  {
   "cell_type": "markdown",
   "metadata": {},
   "source": [
    "**Q:** Describe the role of learning rate (eta) on the efficiency of convergence during training?"
   ]
  },
  {
   "cell_type": "code",
   "execution_count": null,
   "metadata": {},
   "outputs": [],
   "source": []
  },
  {
   "cell_type": "markdown",
   "metadata": {},
   "source": [
    "**Q:** Describe the role of the number of epochs on validation accuracy?"
   ]
  },
  {
   "cell_type": "code",
   "execution_count": null,
   "metadata": {},
   "outputs": [],
   "source": []
  }
 ],
 "metadata": {
  "kernelspec": {
   "display_name": "Python 3",
   "language": "python",
   "name": "python3"
  },
  "language_info": {
   "codemirror_mode": {
    "name": "ipython",
    "version": 3
   },
   "file_extension": ".py",
   "mimetype": "text/x-python",
   "name": "python",
   "nbconvert_exporter": "python",
   "pygments_lexer": "ipython3",
   "version": "3.5.6"
  }
 },
 "nbformat": 4,
 "nbformat_minor": 2
}
